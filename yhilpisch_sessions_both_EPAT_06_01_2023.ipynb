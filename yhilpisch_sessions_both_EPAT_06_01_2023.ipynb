{
  "nbformat": 4,
  "nbformat_minor": 0,
  "metadata": {
    "colab": {
      "provenance": [],
      "authorship_tag": "ABX9TyNGs0oyFIfK0zgRh1wL1OgA",
      "include_colab_link": true
    },
    "kernelspec": {
      "name": "python3",
      "display_name": "Python 3"
    },
    "language_info": {
      "name": "python"
    }
  },
  "cells": [
    {
      "cell_type": "markdown",
      "metadata": {
        "id": "view-in-github",
        "colab_type": "text"
      },
      "source": [
        "<a href=\"https://colab.research.google.com/github/Mech1907/EPAT_WORKS_MJ/blob/main/yhilpisch_sessions_both_EPAT_06_01_2023.ipynb\" target=\"_parent\"><img src=\"https://colab.research.google.com/assets/colab-badge.svg\" alt=\"Open In Colab\"/></a>"
      ]
    },
    {
      "cell_type": "code",
      "execution_count": 2,
      "metadata": {
        "id": "IJV5Hbo4bRUU"
      },
      "outputs": [],
      "source": [
        "class HumanBeing(object):\n",
        "  def __init__(self, first_name, eye_colour):\n",
        "    self.first_name = first_name\n",
        "    self.eye_colour = eye_colour\n",
        "    self.position = 0\n",
        "  def walk_steps(self, steps):\n",
        "    self.position += steps\n"
      ]
    },
    {
      "cell_type": "code",
      "source": [
        "junaid = HumanBeing(\"mohammed\", \"black\")"
      ],
      "metadata": {
        "id": "-8vU6TxWcF10"
      },
      "execution_count": 3,
      "outputs": []
    },
    {
      "cell_type": "code",
      "source": [
        "mj = HumanBeing(\"mohd\", \"gray\")"
      ],
      "metadata": {
        "id": "ATAIkPjj0re9"
      },
      "execution_count": 4,
      "outputs": []
    },
    {
      "cell_type": "code",
      "source": [
        "mj.first_name"
      ],
      "metadata": {
        "colab": {
          "base_uri": "https://localhost:8080/",
          "height": 36
        },
        "id": "XWpSoTo703sZ",
        "outputId": "928d9f48-c722-4c96-e764-39c8f791b767"
      },
      "execution_count": 5,
      "outputs": [
        {
          "output_type": "execute_result",
          "data": {
            "text/plain": [
              "'mohd'"
            ],
            "application/vnd.google.colaboratory.intrinsic+json": {
              "type": "string"
            }
          },
          "metadata": {},
          "execution_count": 5
        }
      ]
    },
    {
      "cell_type": "code",
      "source": [
        "print(junaid.walk_steps(5))"
      ],
      "metadata": {
        "colab": {
          "base_uri": "https://localhost:8080/"
        },
        "id": "CvYlZug0cK4u",
        "outputId": "1eadc826-dbe2-44ed-c835-5df04b352406"
      },
      "execution_count": 6,
      "outputs": [
        {
          "output_type": "stream",
          "name": "stdout",
          "text": [
            "None\n"
          ]
        }
      ]
    },
    {
      "cell_type": "code",
      "source": [
        "n = 5"
      ],
      "metadata": {
        "id": "5tMVVJhndpFB"
      },
      "execution_count": 7,
      "outputs": []
    },
    {
      "cell_type": "code",
      "source": [
        "type(n)"
      ],
      "metadata": {
        "colab": {
          "base_uri": "https://localhost:8080/"
        },
        "id": "ASAlI33eeV9U",
        "outputId": "7f6a6289-ac1d-4faf-9ed7-695a85d5c8f5"
      },
      "execution_count": 8,
      "outputs": [
        {
          "output_type": "execute_result",
          "data": {
            "text/plain": [
              "int"
            ]
          },
          "metadata": {},
          "execution_count": 8
        }
      ]
    },
    {
      "cell_type": "code",
      "source": [
        "n.__sizeof__()"
      ],
      "metadata": {
        "colab": {
          "base_uri": "https://localhost:8080/"
        },
        "id": "n1qvLPYreXhc",
        "outputId": "040cfef2-710d-4ccd-9a3c-7deba8f8fbbb"
      },
      "execution_count": 9,
      "outputs": [
        {
          "output_type": "execute_result",
          "data": {
            "text/plain": [
              "28"
            ]
          },
          "metadata": {},
          "execution_count": 9
        }
      ]
    },
    {
      "cell_type": "code",
      "source": [
        "import pandas as pd\n",
        "import numpy as np"
      ],
      "metadata": {
        "id": "zQRYMnpOiDjn"
      },
      "execution_count": 10,
      "outputs": []
    },
    {
      "cell_type": "code",
      "source": [
        "url = 'http://certificate.tpq.io/mlfin.csv'  # EOD data\n",
        "# url = 'http://hilpisch.com/aiif_eikon_id_data.csv'  # intraday data\n",
        "#raw = pd.read_csv(url, index_col=0, parse_dates=True)# .dropna()\n",
        "raw = pd.read_csv(url, index_col=0, parse_dates=True).dropna()\n",
        "#del raw[\"BTC=\"]\n",
        "del raw[\"BTC=\"]\n",
        "#raw.dropna(inplace=True)\n",
        "raw.dropna(inplace =True)\n",
        "#rets = np.log(raw / raw.shift(1)).dropna()  # log returns\n",
        "rets =  np.log(raw/raw.shift(1)).dropna()\n",
        "rets2 = np.log(raw[\"AAPL.O\"]/raw[\"AAPL.O\"].shift(1)).dropna()\n",
        "raw['AAPL.O'].plot()\n",
        "#raw [\"AAPL.O\"].plot()"
      ],
      "metadata": {
        "colab": {
          "base_uri": "https://localhost:8080/",
          "height": 286
        },
        "id": "6Qkf93V0gyi6",
        "outputId": "dfb2723e-dfae-432d-f370-16638d753617"
      },
      "execution_count": 11,
      "outputs": [
        {
          "output_type": "execute_result",
          "data": {
            "text/plain": [
              "<matplotlib.axes._subplots.AxesSubplot at 0x7fb3bd3fcaf0>"
            ]
          },
          "metadata": {},
          "execution_count": 11
        },
        {
          "output_type": "display_data",
          "data": {
            "text/plain": [
              "<Figure size 432x288 with 1 Axes>"
            ],
            "image/png": "[encoded data removed]"
          },
          "metadata": {
            "needs_background": "light"
          }
        }
      ]
    },
    {
      "cell_type": "code",
      "source": [
        "raw\n",
        "#rets\n",
        "#rets2.head()"
      ],
      "metadata": {
        "colab": {
          "base_uri": "https://localhost:8080/",
          "height": 455
        },
        "id": "xSYxZZpJgxH9",
        "outputId": "c29de4e8-dd49-4a4b-a362-31d8c2d6b10e"
      },
      "execution_count": 12,
      "outputs": [
        {
          "output_type": "execute_result",
          "data": {
            "text/plain": [
              "                AAPL.O   MSFT.O   INTC.O    AMZN.O    GS.N     .SPX   .VIX  \\\n",
              "Date                                                                         \n",
              "2014-07-17   23.272475   44.530  33.7000   17.6227  170.14  1958.12  14.54   \n",
              "2014-07-18   23.607500   44.690  33.7000   17.9330  171.47  1978.22  12.06   \n",
              "2014-07-21   23.484750   44.835  34.0600   17.9880  171.72  1973.63  12.81   \n",
              "2014-07-22   23.680000   44.830  34.7901   18.0420  175.02  1983.53  12.24   \n",
              "2014-07-23   24.297500   44.870  34.5000   17.9070  176.82  1987.01  11.52   \n",
              "...                ...      ...      ...       ...     ...      ...    ...   \n",
              "2022-10-26  149.350000  231.320  27.2100  115.6600  335.69  3830.60  27.28   \n",
              "2022-10-27  144.800000  226.750  26.2700  110.9600  337.18  3807.30  27.39   \n",
              "2022-10-28  155.740000  235.870  29.0700  103.4100  341.82  3901.06  25.75   \n",
              "2022-10-31  153.340000  232.130  28.4300  102.4400  344.51  3871.98  25.88   \n",
              "2022-11-01  150.650000  228.170  28.3000   96.7900  348.58  3856.10  25.81   \n",
              "\n",
              "                 SPY    EUR=       XAU=      GDX       GLD  \n",
              "Date                                                        \n",
              "2014-07-17  195.7100  1.3526  1317.3000  26.9900  127.0899  \n",
              "2014-07-18  197.7099  1.3524  1310.5900  26.9399  126.1300  \n",
              "2014-07-21  197.3400  1.3523  1311.5900  26.9000  126.3400  \n",
              "2014-07-22  198.2000  1.3464  1307.0000  26.5900  125.7400  \n",
              "2014-07-23  198.6400  1.3464  1303.8400  26.4900  125.6200  \n",
              "...              ...     ...        ...      ...       ...  \n",
              "2022-10-26  382.0200  1.0077  1664.4884  25.1300  154.9800  \n",
              "2022-10-27  379.9800  0.9962  1662.9399  24.8200  154.7400  \n",
              "2022-10-28  389.0200  0.9963  1641.7600  24.7200  153.1600  \n",
              "2022-10-31  386.2100  0.9883  1633.1224  24.1600  151.9100  \n",
              "2022-11-01  384.5200  0.9874  1647.5033  24.7000  153.4600  \n",
              "\n",
              "[2089 rows x 12 columns]"
            ],
            "text/html": [
              "\n",
              "  <div id=\"df-ad96e33c-6b9b-4292-a4ce-154af94ff166\">\n",
              "    <div class=\"colab-df-container\">\n",
              "      <div>\n",
              "<style scoped>\n",
              "    .dataframe tbody tr th:only-of-type {\n",
              "        vertical-align: middle;\n",
              "    }\n",
              "\n",
              "    .dataframe tbody tr th {\n",
              "        vertical-align: top;\n",
              "    }\n",
              "\n",
              "    .dataframe thead th {\n",
              "        text-align: right;\n",
              "    }\n",
              "</style>\n",
              "<table border=\"1\" class=\"dataframe\">\n",
              "  <thead>\n",
              "    <tr style=\"text-align: right;\">\n",
              "      <th></th>\n",
              "      <th>AAPL.O</th>\n",
              "      <th>MSFT.O</th>\n",
              "      <th>INTC.O</th>\n",
              "      <th>AMZN.O</th>\n",
              "      <th>GS.N</th>\n",
              "      <th>.SPX</th>\n",
              "      <th>.VIX</th>\n",
              "      <th>SPY</th>\n",
              "      <th>EUR=</th>\n",
              "      <th>XAU=</th>\n",
              "      <th>GDX</th>\n",
              "      <th>GLD</th>\n",
              "    </tr>\n",
              "    <tr>\n",
              "      <th>Date</th>\n",
              "      <th></th>\n",
              "      <th></th>\n",
              "      <th></th>\n",
              "      <th></th>\n",
              "      <th></th>\n",
              "      <th></th>\n",
              "      <th></th>\n",
              "      <th></th>\n",
              "      <th></th>\n",
              "      <th></th>\n",
              "      <th></th>\n",
              "      <th></th>\n",
              "    </tr>\n",
              "  </thead>\n",
              "  <tbody>\n",
              "    <tr>\n",
              "      <th>2014-07-17</th>\n",
              "      <td>23.272475</td>\n",
              "      <td>44.530</td>\n",
              "      <td>33.7000</td>\n",
              "      <td>17.6227</td>\n",
              "      <td>170.14</td>\n",
              "      <td>1958.12</td>\n",
              "      <td>14.54</td>\n",
              "      <td>195.7100</td>\n",
              "      <td>1.3526</td>\n",
              "      <td>1317.3000</td>\n",
              "      <td>26.9900</td>\n",
              "      <td>127.0899</td>\n",
              "    </tr>\n",
              "    <tr>\n",
              "      <th>2014-07-18</th>\n",
              "      <td>23.607500</td>\n",
              "      <td>44.690</td>\n",
              "      <td>33.7000</td>\n",
              "      <td>17.9330</td>\n",
              "      <td>171.47</td>\n",
              "      <td>1978.22</td>\n",
              "      <td>12.06</td>\n",
              "      <td>197.7099</td>\n",
              "      <td>1.3524</td>\n",
              "      <td>1310.5900</td>\n",
              "      <td>26.9399</td>\n",
              "      <td>126.1300</td>\n",
              "    </tr>\n",
              "    <tr>\n",
              "      <th>2014-07-21</th>\n",
              "      <td>23.484750</td>\n",
              "      <td>44.835</td>\n",
              "      <td>34.0600</td>\n",
              "      <td>17.9880</td>\n",
              "      <td>171.72</td>\n",
              "      <td>1973.63</td>\n",
              "      <td>12.81</td>\n",
              "      <td>197.3400</td>\n",
              "      <td>1.3523</td>\n",
              "      <td>1311.5900</td>\n",
              "      <td>26.9000</td>\n",
              "      <td>126.3400</td>\n",
              "    </tr>\n",
              "    <tr>\n",
              "      <th>2014-07-22</th>\n",
              "      <td>23.680000</td>\n",
              "      <td>44.830</td>\n",
              "      <td>34.7901</td>\n",
              "      <td>18.0420</td>\n",
              "      <td>175.02</td>\n",
              "      <td>1983.53</td>\n",
              "      <td>12.24</td>\n",
              "      <td>198.2000</td>\n",
              "      <td>1.3464</td>\n",
              "      <td>1307.0000</td>\n",
              "      <td>26.5900</td>\n",
              "      <td>125.7400</td>\n",
              "    </tr>\n",
              "    <tr>\n",
              "      <th>2014-07-23</th>\n",
              "      <td>24.297500</td>\n",
              "      <td>44.870</td>\n",
              "      <td>34.5000</td>\n",
              "      <td>17.9070</td>\n",
              "      <td>176.82</td>\n",
              "      <td>1987.01</td>\n",
              "      <td>11.52</td>\n",
              "      <td>198.6400</td>\n",
              "      <td>1.3464</td>\n",
              "      <td>1303.8400</td>\n",
              "      <td>26.4900</td>\n",
              "      <td>125.6200</td>\n",
              "    </tr>\n",
              "    <tr>\n",
              "      <th>...</th>\n",
              "      <td>...</td>\n",
              "      <td>...</td>\n",
              "      <td>...</td>\n",
              "      <td>...</td>\n",
              "      <td>...</td>\n",
              "      <td>...</td>\n",
              "      <td>...</td>\n",
              "      <td>...</td>\n",
              "      <td>...</td>\n",
              "      <td>...</td>\n",
              "      <td>...</td>\n",
              "      <td>...</td>\n",
              "    </tr>\n",
              "    <tr>\n",
              "      <th>2022-10-26</th>\n",
              "      <td>149.350000</td>\n",
              "      <td>231.320</td>\n",
              "      <td>27.2100</td>\n",
              "      <td>115.6600</td>\n",
              "      <td>335.69</td>\n",
              "      <td>3830.60</td>\n",
              "      <td>27.28</td>\n",
              "      <td>382.0200</td>\n",
              "      <td>1.0077</td>\n",
              "      <td>1664.4884</td>\n",
              "      <td>25.1300</td>\n",
              "      <td>154.9800</td>\n",
              "    </tr>\n",
              "    <tr>\n",
              "      <th>2022-10-27</th>\n",
              "      <td>144.800000</td>\n",
              "      <td>226.750</td>\n",
              "      <td>26.2700</td>\n",
              "      <td>110.9600</td>\n",
              "      <td>337.18</td>\n",
              "      <td>3807.30</td>\n",
              "      <td>27.39</td>\n",
              "      <td>379.9800</td>\n",
              "      <td>0.9962</td>\n",
              "      <td>1662.9399</td>\n",
              "      <td>24.8200</td>\n",
              "      <td>154.7400</td>\n",
              "    </tr>\n",
              "    <tr>\n",
              "      <th>2022-10-28</th>\n",
              "      <td>155.740000</td>\n",
              "      <td>235.870</td>\n",
              "      <td>29.0700</td>\n",
              "      <td>103.4100</td>\n",
              "      <td>341.82</td>\n",
              "      <td>3901.06</td>\n",
              "      <td>25.75</td>\n",
              "      <td>389.0200</td>\n",
              "      <td>0.9963</td>\n",
              "      <td>1641.7600</td>\n",
              "      <td>24.7200</td>\n",
              "      <td>153.1600</td>\n",
              "    </tr>\n",
              "    <tr>\n",
              "      <th>2022-10-31</th>\n",
              "      <td>153.340000</td>\n",
              "      <td>232.130</td>\n",
              "      <td>28.4300</td>\n",
              "      <td>102.4400</td>\n",
              "      <td>344.51</td>\n",
              "      <td>3871.98</td>\n",
              "      <td>25.88</td>\n",
              "      <td>386.2100</td>\n",
              "      <td>0.9883</td>\n",
              "      <td>1633.1224</td>\n",
              "      <td>24.1600</td>\n",
              "      <td>151.9100</td>\n",
              "    </tr>\n",
              "    <tr>\n",
              "      <th>2022-11-01</th>\n",
              "      <td>150.650000</td>\n",
              "      <td>228.170</td>\n",
              "      <td>28.3000</td>\n",
              "      <td>96.7900</td>\n",
              "      <td>348.58</td>\n",
              "      <td>3856.10</td>\n",
              "      <td>25.81</td>\n",
              "      <td>384.5200</td>\n",
              "      <td>0.9874</td>\n",
              "      <td>1647.5033</td>\n",
              "      <td>24.7000</td>\n",
              "      <td>153.4600</td>\n",
              "    </tr>\n",
              "  </tbody>\n",
              "</table>\n",
              "<p>2089 rows × 12 columns</p>\n",
              "</div>\n",
              "      <button class=\"colab-df-convert\" onclick=\"convertToInteractive('df-ad96e33c-6b9b-4292-a4ce-154af94ff166')\"\n",
              "              title=\"Convert this dataframe to an interactive table.\"\n",
              "              style=\"display:none;\">\n",
              "        \n",
              "  <svg xmlns=\"http://www.w3.org/2000/svg\" height=\"24px\"viewBox=\"0 0 24 24\"\n",
              "       width=\"24px\">\n",
              "    <path d=\"M0 0h24v24H0V0z\" fill=\"none\"/>\n",
              "    <path d=\"M18.56 5.44l.94 2.06.94-2.06 2.06-.94-2.06-.94-.94-2.06-.94 2.06-2.06.94zm-11 1L8.5 8.5l.94-2.06 2.06-.94-2.06-.94L8.5 2.5l-.94 2.06-2.06.94zm10 10l.94 2.06.94-2.06 2.06-.94-2.06-.94-.94-2.06-.94 2.06-2.06.94z\"/><path d=\"M17.41 7.96l-1.37-1.37c-.4-.4-.92-.59-1.43-.59-.52 0-1.04.2-1.43.59L10.3 9.45l-7.72 7.72c-.78.78-.78 2.05 0 2.83L4 21.41c.39.39.9.59 1.41.59.51 0 1.02-.2 1.41-.59l7.78-7.78 2.81-2.81c.8-.78.8-2.07 0-2.86zM5.41 20L4 18.59l7.72-7.72 1.47 1.35L5.41 20z\"/>\n",
              "  </svg>\n",
              "      </button>\n",
              "      \n",
              "  <style>\n",
              "    .colab-df-container {\n",
              "      display:flex;\n",
              "      flex-wrap:wrap;\n",
              "      gap: 12px;\n",
              "    }\n",
              "\n",
              "    .colab-df-convert {\n",
              "      background-color: #E8F0FE;\n",
              "      border: none;\n",
              "      border-radius: 50%;\n",
              "      cursor: pointer;\n",
              "      display: none;\n",
              "      fill: #1967D2;\n",
              "      height: 32px;\n",
              "      padding: 0 0 0 0;\n",
              "      width: 32px;\n",
              "    }\n",
              "\n",
              "    .colab-df-convert:hover {\n",
              "      background-color: #E2EBFA;\n",
              "      box-shadow: 0px 1px 2px rgba(60, 64, 67, 0.3), 0px 1px 3px 1px rgba(60, 64, 67, 0.15);\n",
              "      fill: #174EA6;\n",
              "    }\n",
              "\n",
              "    [theme=dark] .colab-df-convert {\n",
              "      background-color: #3B4455;\n",
              "      fill: #D2E3FC;\n",
              "    }\n",
              "\n",
              "    [theme=dark] .colab-df-convert:hover {\n",
              "      background-color: #434B5C;\n",
              "      box-shadow: 0px 1px 3px 1px rgba(0, 0, 0, 0.15);\n",
              "      filter: drop-shadow(0px 1px 2px rgba(0, 0, 0, 0.3));\n",
              "      fill: #FFFFFF;\n",
              "    }\n",
              "  </style>\n",
              "\n",
              "      <script>\n",
              "        const buttonEl =\n",
              "          document.querySelector('#df-ad96e33c-6b9b-4292-a4ce-154af94ff166 button.colab-df-convert');\n",
              "        buttonEl.style.display =\n",
              "          google.colab.kernel.accessAllowed ? 'block' : 'none';\n",
              "\n",
              "        async function convertToInteractive(key) {\n",
              "          const element = document.querySelector('#df-ad96e33c-6b9b-4292-a4ce-154af94ff166');\n",
              "          const dataTable =\n",
              "            await google.colab.kernel.invokeFunction('convertToInteractive',\n",
              "                                                     [key], {});\n",
              "          if (!dataTable) return;\n",
              "\n",
              "          const docLinkHtml = 'Like what you see? Visit the ' +\n",
              "            '<a target=\"_blank\" href=https://colab.research.google.com/notebooks/data_table.ipynb>data table notebook</a>'\n",
              "            + ' to learn more about interactive tables.';\n",
              "          element.innerHTML = '';\n",
              "          dataTable['output_type'] = 'display_data';\n",
              "          await google.colab.output.renderOutput(dataTable, element);\n",
              "          const docLink = document.createElement('div');\n",
              "          docLink.innerHTML = docLinkHtml;\n",
              "          element.appendChild(docLink);\n",
              "        }\n",
              "      </script>\n",
              "    </div>\n",
              "  </div>\n",
              "  "
            ]
          },
          "metadata": {},
          "execution_count": 12
        }
      ]
    },
    {
      "cell_type": "code",
      "source": [
        "import time\n",
        "import random"
      ],
      "metadata": {
        "id": "ADIdX_SAeY1w"
      },
      "execution_count": 13,
      "outputs": []
    },
    {
      "cell_type": "code",
      "source": [
        "sym = 'AAPL.O'"
      ],
      "metadata": {
        "id": "JUCEAFiggfhY"
      },
      "execution_count": 14,
      "outputs": []
    },
    {
      "cell_type": "code",
      "source": [
        "for bar in range(10):\n",
        "     print(bar, str(raw.index[bar])[:10], raw[sym].iloc[bar])\n",
        "     time.sleep(random.random())\n",
        "    #print(bar, str(raw.index[bar])[:10], raw[sym].iloc[bar])\n",
        "    #time.sleep(random.random())"
      ],
      "metadata": {
        "colab": {
          "base_uri": "https://localhost:8080/"
        },
        "id": "toOjqe7hgib5",
        "outputId": "c90e768e-d33b-43e6-bb46-830e3e6925e0"
      },
      "execution_count": 15,
      "outputs": [
        {
          "output_type": "stream",
          "name": "stdout",
          "text": [
            "0 2014-07-17 23.272475\n",
            "1 2014-07-18 23.6075\n",
            "2 2014-07-21 23.48475\n",
            "3 2014-07-22 23.68\n",
            "4 2014-07-23 24.2975\n",
            "5 2014-07-24 24.2575\n",
            "6 2014-07-25 24.41775\n",
            "7 2014-07-28 24.755\n",
            "8 2014-07-29 24.595\n",
            "9 2014-07-30 24.5375\n"
          ]
        }
      ]
    },
    {
      "cell_type": "code",
      "source": [
        "class FinancialData:\n",
        "    url = 'https://certificate.tpq.io/mlfin.csv'\n",
        "    def __init__(self, symbol):\n",
        "        self.symbol = symbol\n",
        "        self.retrieve_data()\n",
        "        self.prepare_data()\n",
        "    def retrieve_data(self):\n",
        "        self.raw = pd.read_csv(self.url, index_col=0, parse_dates=True)\n",
        "    def prepare_data(self):\n",
        "        self.data = pd.DataFrame(self.raw[self.symbol]).dropna()\n",
        "        self.data['r'] = np.log(self.data / self.data.shift(1))\n",
        "    def plot_data(self, cols=None):\n",
        "        if cols is None:\n",
        "            cols = [self.symbol]\n",
        "        self.data[cols].plot(title=self.symbol)"
      ],
      "metadata": {
        "id": "6Dr5ox5OmQKL"
      },
      "execution_count": 16,
      "outputs": []
    },
    {
      "cell_type": "code",
      "source": [
        "FinancialData(\"AAPL.O\")"
      ],
      "metadata": {
        "colab": {
          "base_uri": "https://localhost:8080/"
        },
        "id": "f_WIwdj40ibD",
        "outputId": "20522863-3e83-4d02-d535-aba884240b1d"
      },
      "execution_count": 17,
      "outputs": [
        {
          "output_type": "execute_result",
          "data": {
            "text/plain": [
              "<__main__.FinancialData at 0x7fb3bd2a2bb0>"
            ]
          },
          "metadata": {},
          "execution_count": 17
        }
      ]
    },
    {
      "cell_type": "code",
      "source": [],
      "metadata": {
        "id": "_dt_z6DV1Huy"
      },
      "execution_count": 17,
      "outputs": []
    },
    {
      "cell_type": "markdown",
      "source": [
        "BacktestingBase Class\n",
        "We are going to implement a base class for event-based backtesting with:\n",
        "\n",
        "__init__\n",
        "retrieve_data (FinancialData)\n",
        "prepare_data (FinancialData)\n",
        "plot_data (FinancialData)\n",
        "get_date_price\n",
        "print_balance\n",
        "print_net_wealth\n",
        "place_buy_order\n",
        "place_sell_order\n",
        "close_out"
      ],
      "metadata": {
        "id": "tNTK6zW41dbj"
      }
    },
    {
      "cell_type": "code",
      "source": [
        "class BacktestingBase(FinancialData):\n",
        "    def __init__(self, symbol, amount):\n",
        "        super().__init__(symbol)\n",
        "        self.initial_balance = amount\n",
        "        self.current_balance = amount\n",
        "        self.units = 0\n",
        "        self.trades = 0\n",
        "    def get_date_price(self, bar):\n",
        "        date = str(self.data.index[bar])[:10]\n",
        "        price = self.data[self.symbol].iloc[bar]\n",
        "        return date, price\n",
        "    def print_balance(self, bar):\n",
        "        date, price = self.get_date_price(bar)\n",
        "        print(f'{date} | current balance = {self.current_balance:.2f}')\n",
        "    def print_net_wealth(self, bar):\n",
        "        date, price = self.get_date_price(bar)\n",
        "        net_wealth = self.current_balance + self.units * price\n",
        "        print(f'{date} | net wealth = {net_wealth:.2f}')\n",
        "    def place_buy_order(self, bar, units=None, amount=None):\n",
        "        date, price = self.get_date_price(bar)\n",
        "        if units is None:\n",
        "            units = int(amount / price)\n",
        "        self.current_balance -= units * price\n",
        "        self.units += units\n",
        "        self.trades += 1\n",
        "        self.entry_price = price\n",
        "        #print(f'{date} | bought {units} for {price}')\n",
        "        print(f'{date} | bought {units} for {price}')\n",
        "        self.print_balance(bar)\n",
        "        self.print_net_wealth(bar)\n",
        "    def place_sell_order(self, bar, units=None, amount=None):\n",
        "        date, price = self.get_date_price(bar)\n",
        "        if units is None:\n",
        "            units = int(amount / price)\n",
        "        self.current_balance += units * price\n",
        "        self.units -= units\n",
        "        self.trades += 1\n",
        "        self.entry_price = price\n",
        "        print(f'{date} | sold {units} for {price}')\n",
        "        self.print_balance(bar)\n",
        "        self.print_net_wealth(bar)\n",
        "    def close_out(self, bar):\n",
        "        date, price = self.get_date_price(bar)\n",
        "        print(55 * '=')\n",
        "        print('*** CLOSING OUT POSITION ***')\n",
        "        print(55 * '=')\n",
        "        print(f'{date} | closing out {self.units} at {price}')\n",
        "        self.current_balance += self.units * price\n",
        "        self.units = 0\n",
        "        self.trades += 1\n",
        "        perf = (self.current_balance / self.initial_balance - 1) * 100\n",
        "        self.print_balance(bar)\n",
        "        self.print_net_wealth(bar)\n",
        "        print(f'{date} | performance[%] = {perf:.3f}')\n",
        "        print(f'{date} | trades[#] = {self.trades}')\n",
        "        print(55 * '=')"
      ],
      "metadata": {
        "id": "_jL2gmbC1eUZ"
      },
      "execution_count": 18,
      "outputs": []
    },
    {
      "cell_type": "code",
      "source": [
        "mj = BacktestingBase(\"AAPL.O\", amount = 10000)\n",
        "mj"
      ],
      "metadata": {
        "colab": {
          "base_uri": "https://localhost:8080/"
        },
        "id": "kXEnj7AsA9zi",
        "outputId": "684d8f20-4232-40c4-8ffb-0e67cbcad99b"
      },
      "execution_count": 19,
      "outputs": [
        {
          "output_type": "execute_result",
          "data": {
            "text/plain": [
              "<__main__.BacktestingBase at 0x7fb3bd2a29a0>"
            ]
          },
          "metadata": {},
          "execution_count": 19
        }
      ]
    },
    {
      "cell_type": "code",
      "source": [
        "mj.place_sell_order(10,600)"
      ],
      "metadata": {
        "colab": {
          "base_uri": "https://localhost:8080/"
        },
        "id": "87BBQEx6BKn6",
        "outputId": "9fdfa0b3-bf6a-41ff-ff1c-035f41c30d6c"
      },
      "execution_count": 20,
      "outputs": [
        {
          "output_type": "stream",
          "name": "stdout",
          "text": [
            "2012-11-15 | sold 600 for 18.772124085\n",
            "2012-11-15 | current balance = 21263.27\n",
            "2012-11-15 | net wealth = 10000.00\n"
          ]
        }
      ]
    },
    {
      "cell_type": "code",
      "source": [
        "class SMABacktester(BacktestingBase):\n",
        "    def prepare_statistics(self):\n",
        "        self.data['SMA1'] = self.data[self.symbol].rolling(self.SMA1).mean()\n",
        "        self.data['SMA2'] = self.data[self.symbol].rolling(self.SMA2).mean()\n",
        "    def backtest_strategy(self, SMA1, SMA2, sl=None, wait=5):\n",
        "        self.units = 0\n",
        "        self.trades = 0\n",
        "        self.position = 0\n",
        "        self.wait = 0\n",
        "        self.current_balance = self.initial_balance\n",
        "        self.net_wealths = list()\n",
        "        self.SMA1 = SMA1\n",
        "        self.SMA2 = SMA2\n",
        "        self.prepare_statistics()\n",
        "        print(55 * '=')\n",
        "        print('*** STARTING BACKTEST ***')\n",
        "        print(f'SYMBOL = {self.symbol} | SMA1 = {self.SMA1} | SMA2 = {self.SMA2}')\n",
        "        print(55 * '=')\n",
        "        for bar in range(self.SMA2, len(self.data)):\n",
        "            if self.wait != 0:\n",
        "                self.wait -= 1\n",
        "            date, price = self.get_date_price(bar)\n",
        "            self.net_wealths.append(self.current_balance + self.units * price)\n",
        "            signal = 1 if self.data['SMA1'].iloc[bar] > self.data['SMA2'].iloc[bar] else -1\n",
        "            if sl is not None and self.position != 0 and self.wait == 0:\n",
        "                # checking for stop loss\n",
        "                rc = (price - self.entry_price) / self.entry_price\n",
        "                if self.position == 1 and rc < -sl:\n",
        "                    print(f'{date} | STOP LOSS HIT | LONG {rc:.3f}')\n",
        "                    self.place_sell_order(bar, units=self.units)\n",
        "                    self.position = 0\n",
        "                    self.wait = wait\n",
        "                    print(55 * '-')\n",
        "                elif self.position == -1 and rc > sl:\n",
        "                    print(f'{date} | STOP LOSS HIT | SHORT {rc:.3f}')\n",
        "                    self.place_buy_order(bar, units=-self.units)\n",
        "                    self.position = 0\n",
        "                    self.wait = wait\n",
        "                    print(55 * '-')\n",
        "            if self.position in [0, -1] and signal == 1 and self.wait == 0:\n",
        "                # going long\n",
        "                self.place_buy_order(bar, units=(1 - self.position) * 5000)  # adjust to the instrument\n",
        "                self.position = 1\n",
        "                print(55 * '-')\n",
        "            elif self.position in [0, 1] and signal == -1 and self.wait == 0:\n",
        "                # goint short\n",
        "                self.place_sell_order(bar, units=(1 + self.position) * 5000)  # adjust to the instrument\n",
        "                self.position = -1\n",
        "                print(55 * '-')\n",
        "        self.close_out(bar)"
      ],
      "metadata": {
        "id": "76FY04PMBRLu"
      },
      "execution_count": 22,
      "outputs": []
    },
    {
      "cell_type": "code",
      "source": [
        "sma = SMABacktester('AAPL.O', 10000)\n",
        "sma"
      ],
      "metadata": {
        "colab": {
          "base_uri": "https://localhost:8080/"
        },
        "id": "kLSZq3DZhccL",
        "outputId": "c3d4c107-9140-4a1e-e96c-2d0fa753f71e"
      },
      "execution_count": 26,
      "outputs": [
        {
          "output_type": "execute_result",
          "data": {
            "text/plain": [
              "<__main__.SMABacktester at 0x7fb3bcde81f0>"
            ]
          },
          "metadata": {},
          "execution_count": 26
        }
      ]
    },
    {
      "cell_type": "code",
      "source": [
        "sma.backtest_strategy(42, 252, sl=0.015)\n",
        "# sma.backtest_strategy(30, 180)"
      ],
      "metadata": {
        "colab": {
          "base_uri": "https://localhost:8080/"
        },
        "id": "HWFk2CGxh0VV",
        "outputId": "9ddb4a4a-8558-4f59-a228-fdba801b0dcb"
      },
      "execution_count": 27,
      "outputs": [
        {
          "output_type": "stream",
          "name": "stdout",
          "text": [
            "=======================================================\n",
            "*** STARTING BACKTEST ***\n",
            "SYMBOL = AAPL.O | SMA1 = 42 | SMA2 = 252\n",
            "=======================================================\n",
            "2013-11-01 | bought 5000 for 18.5724814275\n",
            "2013-11-01 | current balance = -82862.41\n",
            "2013-11-01 | net wealth = 10000.00\n",
            "-------------------------------------------------------\n",
            "2014-01-28 | STOP LOSS HIT | LONG -0.026\n",
            "2014-01-28 | sold 5000 for 18.089267625\n",
            "2014-01-28 | current balance = 7583.93\n",
            "2014-01-28 | net wealth = 7583.93\n",
            "-------------------------------------------------------\n",
            "2014-02-04 | bought 5000 for 18.1710532575\n",
            "2014-02-04 | current balance = -83271.34\n",
            "2014-02-04 | net wealth = 7583.93\n",
            "-------------------------------------------------------\n",
            "2015-09-08 | sold 10000 for 28.0775\n",
            "2015-09-08 | current balance = 197503.66\n",
            "2015-09-08 | net wealth = 57116.16\n",
            "-------------------------------------------------------\n",
            "2015-09-11 | STOP LOSS HIT | SHORT 0.017\n",
            "2015-09-11 | bought 5000 for 28.5525\n",
            "2015-09-11 | current balance = 54741.16\n",
            "2015-09-11 | net wealth = 54741.16\n",
            "-------------------------------------------------------\n",
            "2015-09-18 | sold 5000 for 28.3625\n",
            "2015-09-18 | current balance = 196553.66\n",
            "2015-09-18 | net wealth = 54741.16\n",
            "-------------------------------------------------------\n",
            "2015-09-21 | STOP LOSS HIT | SHORT 0.016\n",
            "2015-09-21 | bought 5000 for 28.8025\n",
            "2015-09-21 | current balance = 52541.16\n",
            "2015-09-21 | net wealth = 52541.16\n",
            "-------------------------------------------------------\n",
            "2015-09-28 | sold 5000 for 28.11\n",
            "2015-09-28 | current balance = 193091.16\n",
            "2015-09-28 | net wealth = 52541.16\n",
            "-------------------------------------------------------\n",
            "2015-10-22 | STOP LOSS HIT | SHORT 0.027\n",
            "2015-10-22 | bought 5000 for 28.875\n",
            "2015-10-22 | current balance = 48716.16\n",
            "2015-10-22 | net wealth = 48716.16\n",
            "-------------------------------------------------------\n",
            "2015-10-29 | sold 5000 for 30.1325\n",
            "2015-10-29 | current balance = 199378.66\n",
            "2015-10-29 | net wealth = 48716.16\n",
            "-------------------------------------------------------\n",
            "2015-11-03 | STOP LOSS HIT | SHORT 0.017\n",
            "2015-11-03 | bought 5000 for 30.6425\n",
            "2015-11-03 | current balance = 46166.16\n",
            "2015-11-03 | net wealth = 46166.16\n",
            "-------------------------------------------------------\n",
            "2015-11-10 | sold 5000 for 29.1925\n",
            "2015-11-10 | current balance = 192128.66\n",
            "2015-11-10 | net wealth = 46166.16\n",
            "-------------------------------------------------------\n",
            "2015-11-19 | STOP LOSS HIT | SHORT 0.017\n",
            "2015-11-19 | bought 5000 for 29.695\n",
            "2015-11-19 | current balance = 43653.66\n",
            "2015-11-19 | net wealth = 43653.66\n",
            "-------------------------------------------------------\n",
            "2015-11-27 | sold 5000 for 29.4525\n",
            "2015-11-27 | current balance = 190916.16\n",
            "2015-11-27 | net wealth = 43653.66\n",
            "-------------------------------------------------------\n",
            "2016-09-09 | bought 10000 for 25.7825\n",
            "2016-09-09 | current balance = -66908.84\n",
            "2016-09-09 | net wealth = 62003.66\n",
            "-------------------------------------------------------\n",
            "2018-12-20 | sold 10000 for 39.2075\n",
            "2018-12-20 | current balance = 325166.16\n",
            "2018-12-20 | net wealth = 129128.66\n",
            "-------------------------------------------------------\n",
            "2019-01-30 | STOP LOSS HIT | SHORT 0.054\n",
            "2019-01-30 | bought 5000 for 41.3125\n",
            "2019-01-30 | current balance = 118603.66\n",
            "2019-01-30 | net wealth = 118603.66\n",
            "-------------------------------------------------------\n",
            "2019-02-06 | sold 5000 for 43.56\n",
            "2019-02-06 | current balance = 336403.66\n",
            "2019-02-06 | net wealth = 118603.66\n",
            "-------------------------------------------------------\n",
            "2019-03-11 | STOP LOSS HIT | SHORT 0.027\n",
            "2019-03-11 | bought 5000 for 44.725\n",
            "2019-03-11 | current balance = 112778.66\n",
            "2019-03-11 | net wealth = 112778.66\n",
            "-------------------------------------------------------\n",
            "2019-03-18 | sold 5000 for 47.005\n",
            "2019-03-18 | current balance = 347803.66\n",
            "2019-03-18 | net wealth = 112778.66\n",
            "-------------------------------------------------------\n",
            "2019-03-21 | STOP LOSS HIT | SHORT 0.038\n",
            "2019-03-21 | bought 5000 for 48.7725\n",
            "2019-03-21 | current balance = 103941.16\n",
            "2019-03-21 | net wealth = 103941.16\n",
            "-------------------------------------------------------\n",
            "2019-03-28 | sold 5000 for 47.18\n",
            "2019-03-28 | current balance = 339841.16\n",
            "2019-03-28 | net wealth = 103941.16\n",
            "-------------------------------------------------------\n",
            "2019-04-02 | STOP LOSS HIT | SHORT 0.028\n",
            "2019-04-02 | bought 5000 for 48.505\n",
            "2019-04-02 | current balance = 97316.16\n",
            "2019-04-02 | net wealth = 97316.16\n",
            "-------------------------------------------------------\n",
            "2019-04-09 | sold 5000 for 49.875\n",
            "2019-04-09 | current balance = 346691.16\n",
            "2019-04-09 | net wealth = 97316.16\n",
            "-------------------------------------------------------\n",
            "2019-04-17 | STOP LOSS HIT | SHORT 0.018\n",
            "2019-04-17 | bought 5000 for 50.7825\n",
            "2019-04-17 | current balance = 92778.66\n",
            "2019-04-17 | net wealth = 92778.66\n",
            "-------------------------------------------------------\n",
            "2019-04-25 | sold 5000 for 51.32\n",
            "2019-04-25 | current balance = 349378.66\n",
            "2019-04-25 | net wealth = 92778.66\n",
            "-------------------------------------------------------\n",
            "2019-04-29 | bought 10000 for 51.1525\n",
            "2019-04-29 | current balance = -162146.34\n",
            "2019-04-29 | net wealth = 93616.16\n",
            "-------------------------------------------------------\n",
            "2019-04-30 | STOP LOSS HIT | LONG -0.019\n",
            "2019-04-30 | sold 5000 for 50.1675\n",
            "2019-04-30 | current balance = 88691.16\n",
            "2019-04-30 | net wealth = 88691.16\n",
            "-------------------------------------------------------\n",
            "2019-05-07 | bought 5000 for 50.715\n",
            "2019-05-07 | current balance = -164883.84\n",
            "2019-05-07 | net wealth = 88691.16\n",
            "-------------------------------------------------------\n",
            "2019-05-10 | STOP LOSS HIT | LONG -0.028\n",
            "2019-05-10 | sold 5000 for 49.295\n",
            "2019-05-10 | current balance = 81591.16\n",
            "2019-05-10 | net wealth = 81591.16\n",
            "-------------------------------------------------------\n",
            "2019-05-17 | bought 5000 for 47.25\n",
            "2019-05-17 | current balance = -154658.84\n",
            "2019-05-17 | net wealth = 81591.16\n",
            "-------------------------------------------------------\n",
            "2019-05-20 | STOP LOSS HIT | LONG -0.031\n",
            "2019-05-20 | sold 5000 for 45.7725\n",
            "2019-05-20 | current balance = 74203.66\n",
            "2019-05-20 | net wealth = 74203.66\n",
            "-------------------------------------------------------\n",
            "2019-05-28 | bought 5000 for 44.5575\n",
            "2019-05-28 | current balance = -148583.84\n",
            "2019-05-28 | net wealth = 74203.66\n",
            "-------------------------------------------------------\n",
            "2019-05-31 | STOP LOSS HIT | LONG -0.018\n",
            "2019-05-31 | sold 5000 for 43.7675\n",
            "2019-05-31 | current balance = 70253.66\n",
            "2019-05-31 | net wealth = 70253.66\n",
            "-------------------------------------------------------\n",
            "2019-06-07 | bought 5000 for 47.5375\n",
            "2019-06-07 | current balance = -167433.84\n",
            "2019-06-07 | net wealth = 70253.66\n",
            "-------------------------------------------------------\n",
            "2019-07-01 | sold 10000 for 50.3875\n",
            "2019-07-01 | current balance = 336441.16\n",
            "2019-07-01 | net wealth = 84503.66\n",
            "-------------------------------------------------------\n",
            "2019-07-15 | STOP LOSS HIT | SHORT 0.018\n",
            "2019-07-15 | bought 5000 for 51.3025\n",
            "2019-07-15 | current balance = 79928.66\n",
            "2019-07-15 | net wealth = 79928.66\n",
            "-------------------------------------------------------\n",
            "2019-07-22 | bought 5000 for 51.805\n",
            "2019-07-22 | current balance = -179096.34\n",
            "2019-07-22 | net wealth = 79928.66\n",
            "-------------------------------------------------------\n",
            "2019-08-02 | STOP LOSS HIT | LONG -0.015\n",
            "2019-08-02 | sold 5000 for 51.005\n",
            "2019-08-02 | current balance = 75928.66\n",
            "2019-08-02 | net wealth = 75928.66\n",
            "-------------------------------------------------------\n",
            "2019-08-09 | bought 5000 for 50.2475\n",
            "2019-08-09 | current balance = -175308.84\n",
            "2019-08-09 | net wealth = 75928.66\n",
            "-------------------------------------------------------\n",
            "2022-06-06 | sold 10000 for 146.14\n",
            "2022-06-06 | current balance = 1286091.16\n",
            "2022-06-06 | net wealth = 555391.16\n",
            "-------------------------------------------------------\n",
            "2022-06-07 | STOP LOSS HIT | SHORT 0.018\n",
            "2022-06-07 | bought 5000 for 148.71\n",
            "2022-06-07 | current balance = 542541.16\n",
            "2022-06-07 | net wealth = 542541.16\n",
            "-------------------------------------------------------\n",
            "2022-06-14 | sold 5000 for 132.76\n",
            "2022-06-14 | current balance = 1206341.16\n",
            "2022-06-14 | net wealth = 542541.16\n",
            "-------------------------------------------------------\n",
            "2022-06-15 | STOP LOSS HIT | SHORT 0.020\n",
            "2022-06-15 | bought 5000 for 135.43\n",
            "2022-06-15 | current balance = 529191.16\n",
            "2022-06-15 | net wealth = 529191.16\n",
            "-------------------------------------------------------\n",
            "2022-06-23 | sold 5000 for 138.27\n",
            "2022-06-23 | current balance = 1220541.16\n",
            "2022-06-23 | net wealth = 529191.16\n",
            "-------------------------------------------------------\n",
            "2022-06-24 | STOP LOSS HIT | SHORT 0.025\n",
            "2022-06-24 | bought 5000 for 141.66\n",
            "2022-06-24 | current balance = 512241.16\n",
            "2022-06-24 | net wealth = 512241.16\n",
            "-------------------------------------------------------\n",
            "2022-07-01 | sold 5000 for 138.93\n",
            "2022-07-01 | current balance = 1206891.16\n",
            "2022-07-01 | net wealth = 512241.16\n",
            "-------------------------------------------------------\n",
            "2022-07-05 | STOP LOSS HIT | SHORT 0.019\n",
            "2022-07-05 | bought 5000 for 141.56\n",
            "2022-07-05 | current balance = 499091.16\n",
            "2022-07-05 | net wealth = 499091.16\n",
            "-------------------------------------------------------\n",
            "2022-07-12 | sold 5000 for 145.86\n",
            "2022-07-12 | current balance = 1228391.16\n",
            "2022-07-12 | net wealth = 499091.16\n",
            "-------------------------------------------------------\n",
            "2022-07-14 | STOP LOSS HIT | SHORT 0.018\n",
            "2022-07-14 | bought 5000 for 148.47\n",
            "2022-07-14 | current balance = 486041.16\n",
            "2022-07-14 | net wealth = 486041.16\n",
            "-------------------------------------------------------\n",
            "2022-07-21 | sold 5000 for 155.35\n",
            "2022-07-21 | current balance = 1262791.16\n",
            "2022-07-21 | net wealth = 486041.16\n",
            "-------------------------------------------------------\n",
            "2022-07-29 | STOP LOSS HIT | SHORT 0.046\n",
            "2022-07-29 | bought 5000 for 162.51\n",
            "2022-07-29 | current balance = 450241.16\n",
            "2022-07-29 | net wealth = 450241.16\n",
            "-------------------------------------------------------\n",
            "2022-08-05 | sold 5000 for 165.35\n",
            "2022-08-05 | current balance = 1276991.16\n",
            "2022-08-05 | net wealth = 450241.16\n",
            "-------------------------------------------------------\n",
            "2022-08-10 | STOP LOSS HIT | SHORT 0.024\n",
            "2022-08-10 | bought 5000 for 169.24\n",
            "2022-08-10 | current balance = 430791.16\n",
            "2022-08-10 | net wealth = 430791.16\n",
            "-------------------------------------------------------\n",
            "2022-08-17 | sold 5000 for 174.55\n",
            "2022-08-17 | current balance = 1303541.16\n",
            "2022-08-17 | net wealth = 430791.16\n",
            "-------------------------------------------------------\n",
            "2022-08-29 | bought 10000 for 161.38\n",
            "2022-08-29 | current balance = -310258.84\n",
            "2022-08-29 | net wealth = 496641.16\n",
            "-------------------------------------------------------\n",
            "2022-08-30 | STOP LOSS HIT | LONG -0.015\n",
            "2022-08-30 | sold 5000 for 158.91\n",
            "2022-08-30 | current balance = 484291.16\n",
            "2022-08-30 | net wealth = 484291.16\n",
            "-------------------------------------------------------\n",
            "2022-09-07 | bought 5000 for 155.96\n",
            "2022-09-07 | current balance = -295508.84\n",
            "2022-09-07 | net wealth = 484291.16\n",
            "-------------------------------------------------------\n",
            "2022-09-15 | STOP LOSS HIT | LONG -0.023\n",
            "2022-09-15 | sold 5000 for 152.37\n",
            "2022-09-15 | current balance = 466341.16\n",
            "2022-09-15 | net wealth = 466341.16\n",
            "-------------------------------------------------------\n",
            "2022-09-22 | bought 5000 for 152.74\n",
            "2022-09-22 | current balance = -297358.84\n",
            "2022-09-22 | net wealth = 466341.16\n",
            "-------------------------------------------------------\n",
            "2022-09-23 | STOP LOSS HIT | LONG -0.015\n",
            "2022-09-23 | sold 5000 for 150.43\n",
            "2022-09-23 | current balance = 454791.16\n",
            "2022-09-23 | net wealth = 454791.16\n",
            "-------------------------------------------------------\n",
            "2022-09-30 | bought 5000 for 138.2\n",
            "2022-09-30 | current balance = -236208.84\n",
            "2022-09-30 | net wealth = 454791.16\n",
            "-------------------------------------------------------\n",
            "2022-10-06 | sold 10000 for 145.43\n",
            "2022-10-06 | current balance = 1218091.16\n",
            "2022-10-06 | net wealth = 490941.16\n",
            "-------------------------------------------------------\n",
            "2022-10-24 | STOP LOSS HIT | SHORT 0.028\n",
            "2022-10-24 | bought 5000 for 149.45\n",
            "2022-10-24 | current balance = 470841.16\n",
            "2022-10-24 | net wealth = 470841.16\n",
            "-------------------------------------------------------\n",
            "2022-10-31 | sold 5000 for 153.34\n",
            "2022-10-31 | current balance = 1237541.16\n",
            "2022-10-31 | net wealth = 470841.16\n",
            "-------------------------------------------------------\n",
            "=======================================================\n",
            "*** CLOSING OUT POSITION ***\n",
            "=======================================================\n",
            "2022-11-01 | closing out -5000 at 150.65\n",
            "2022-11-01 | current balance = 484291.16\n",
            "2022-11-01 | net wealth = 484291.16\n",
            "2022-11-01 | performance[%] = 4742.912\n",
            "2022-11-01 | trades[#] = 66\n",
            "=======================================================\n"
          ]
        }
      ]
    },
    {
      "cell_type": "code",
      "source": [
        "plt.plot(sma.data.index[sma.SMA2:], sma.net_wealths);"
      ],
      "metadata": {
        "colab": {
          "base_uri": "https://localhost:8080/",
          "height": 165
        },
        "id": "WXMgGNK9h-vC",
        "outputId": "e032ca2f-79a5-4615-edd7-e3d33e5233e2"
      },
      "execution_count": 28,
      "outputs": [
        {
          "output_type": "error",
          "ename": "NameError",
          "evalue": "ignored",
          "traceback": [
            "\u001b[0;31m---------------------------------------------------------------------------\u001b[0m",
            "\u001b[0;31mNameError\u001b[0m                                 Traceback (most recent call last)",
            "\u001b[0;32m<ipython-input-28-38582ae6c345>\u001b[0m in \u001b[0;36m<module>\u001b[0;34m\u001b[0m\n\u001b[0;32m----> 1\u001b[0;31m \u001b[0mplt\u001b[0m\u001b[0;34m.\u001b[0m\u001b[0mplot\u001b[0m\u001b[0;34m(\u001b[0m\u001b[0msma\u001b[0m\u001b[0;34m.\u001b[0m\u001b[0mdata\u001b[0m\u001b[0;34m.\u001b[0m\u001b[0mindex\u001b[0m\u001b[0;34m[\u001b[0m\u001b[0msma\u001b[0m\u001b[0;34m.\u001b[0m\u001b[0mSMA2\u001b[0m\u001b[0;34m:\u001b[0m\u001b[0;34m]\u001b[0m\u001b[0;34m,\u001b[0m \u001b[0msma\u001b[0m\u001b[0;34m.\u001b[0m\u001b[0mnet_wealths\u001b[0m\u001b[0;34m)\u001b[0m\u001b[0;34m;\u001b[0m\u001b[0;34m\u001b[0m\u001b[0;34m\u001b[0m\u001b[0m\n\u001b[0m",
            "\u001b[0;31mNameError\u001b[0m: name 'plt' is not defined"
          ]
        }
      ]
    },
    {
      "cell_type": "code",
      "source": [
        "import matplotlib.pyplot as plt"
      ],
      "metadata": {
        "id": "k4RZFfkgiElo"
      },
      "execution_count": 29,
      "outputs": []
    },
    {
      "cell_type": "code",
      "source": [
        "plt.plot(sma.data.index[sma.SMA2:], sma.net_wealths);"
      ],
      "metadata": {
        "colab": {
          "base_uri": "https://localhost:8080/",
          "height": 265
        },
        "id": "vsHAhjAwiCaj",
        "outputId": "f4b485b7-38bf-4e06-a01d-20e2d599b204"
      },
      "execution_count": 30,
      "outputs": [
        {
          "output_type": "display_data",
          "data": {
            "text/plain": [
              "<Figure size 432x288 with 1 Axes>"
            ],
            "image/png": "[encoded data removed]"
          },
          "metadata": {
            "needs_background": "light"
          }
        }
      ]
    },
    {
      "cell_type": "code",
      "source": [],
      "metadata": {
        "id": "CemlaBQXiJCL"
      },
      "execution_count": null,
      "outputs": []
    }
  ]
}