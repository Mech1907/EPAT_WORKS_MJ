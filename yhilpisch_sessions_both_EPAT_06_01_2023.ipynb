{
  "nbformat": 4,
  "nbformat_minor": 0,
  "metadata": {
    "colab": {
      "provenance": [],
      "authorship_tag": "ABX9TyNUvKW6nnw6rxbguiMV5WLv",
      "include_colab_link": true
    },
    "kernelspec": {
      "name": "python3",
      "display_name": "Python 3"
    },
    "language_info": {
      "name": "python"
    }
  },
  "cells": [
    {
      "cell_type": "markdown",
      "metadata": {
        "id": "view-in-github",
        "colab_type": "text"
      },
      "source": [
        "<a href=\"https://colab.research.google.com/github/Mech1907/EPAT_WORKS_MJ/blob/main/yhilpisch_sessions_both_EPAT_06_01_2023.ipynb\" target=\"_parent\"><img src=\"https://colab.research.google.com/assets/colab-badge.svg\" alt=\"Open In Colab\"/></a>"
      ]
    },
    {
      "cell_type": "code",
      "execution_count": null,
      "metadata": {
        "id": "IJV5Hbo4bRUU"
      },
      "outputs": [],
      "source": [
        "class HumanBeing(object):\n",
        "  def __init__(self, first_name, eye_colour):\n",
        "    self.first_name = first_name\n",
        "    self.eye_colour = eye_colour\n",
        "    self.position = 0\n",
        "  def walk_steps(self, steps):\n",
        "    self.position += steps\n"
      ]
    },
    {
      "cell_type": "code",
      "source": [
        "junaid = HumanBeing(\"mohammed\", \"black\")"
      ],
      "metadata": {
        "id": "-8vU6TxWcF10"
      },
      "execution_count": null,
      "outputs": []
    },
    {
      "cell_type": "code",
      "source": [
        "mj = HumanBeing(\"mohd\", \"gray\")"
      ],
      "metadata": {
        "id": "ATAIkPjj0re9"
      },
      "execution_count": null,
      "outputs": []
    },
    {
      "cell_type": "code",
      "source": [
        "mj.first_name"
      ],
      "metadata": {
        "colab": {
          "base_uri": "https://localhost:8080/",
          "height": 36
        },
        "id": "XWpSoTo703sZ",
        "outputId": "c9bd615f-df9a-43a5-88e6-d6bf2741c399"
      },
      "execution_count": null,
      "outputs": [
        {
          "output_type": "execute_result",
          "data": {
            "text/plain": [
              "'mohd'"
            ],
            "application/vnd.google.colaboratory.intrinsic+json": {
              "type": "string"
            }
          },
          "metadata": {},
          "execution_count": 84
        }
      ]
    },
    {
      "cell_type": "code",
      "source": [
        "print(junaid.walk_steps(5))"
      ],
      "metadata": {
        "colab": {
          "base_uri": "https://localhost:8080/"
        },
        "id": "CvYlZug0cK4u",
        "outputId": "53d35392-86fd-4877-b5ef-724d911d31f0"
      },
      "execution_count": null,
      "outputs": [
        {
          "output_type": "stream",
          "name": "stdout",
          "text": [
            "None\n"
          ]
        }
      ]
    },
    {
      "cell_type": "code",
      "source": [
        "n = 5"
      ],
      "metadata": {
        "id": "5tMVVJhndpFB"
      },
      "execution_count": null,
      "outputs": []
    },
    {
      "cell_type": "code",
      "source": [
        "type(n)"
      ],
      "metadata": {
        "colab": {
          "base_uri": "https://localhost:8080/"
        },
        "id": "ASAlI33eeV9U",
        "outputId": "574c8bd8-a4b9-49b9-dfa1-bfae8da50d03"
      },
      "execution_count": null,
      "outputs": [
        {
          "output_type": "execute_result",
          "data": {
            "text/plain": [
              "int"
            ]
          },
          "metadata": {},
          "execution_count": 19
        }
      ]
    },
    {
      "cell_type": "code",
      "source": [
        "n.__sizeof__()"
      ],
      "metadata": {
        "colab": {
          "base_uri": "https://localhost:8080/"
        },
        "id": "n1qvLPYreXhc",
        "outputId": "82630143-c3d9-413d-c6d7-c99ba65504b0"
      },
      "execution_count": null,
      "outputs": [
        {
          "output_type": "execute_result",
          "data": {
            "text/plain": [
              "28"
            ]
          },
          "metadata": {},
          "execution_count": 22
        }
      ]
    },
    {
      "cell_type": "code",
      "source": [
        "import pandas as pd\n",
        "import numpy as np"
      ],
      "metadata": {
        "id": "zQRYMnpOiDjn"
      },
      "execution_count": null,
      "outputs": []
    },
    {
      "cell_type": "code",
      "source": [
        "url = 'http://certificate.tpq.io/mlfin.csv'  # EOD data\n",
        "# url = 'http://hilpisch.com/aiif_eikon_id_data.csv'  # intraday data\n",
        "#raw = pd.read_csv(url, index_col=0, parse_dates=True)# .dropna()\n",
        "raw = pd.read_csv(url, index_col=0, parse_dates=True).dropna()\n",
        "#del raw[\"BTC=\"]\n",
        "del raw[\"BTC=\"]\n",
        "#raw.dropna(inplace=True)\n",
        "raw.dropna(inplace =True)\n",
        "#rets = np.log(raw / raw.shift(1)).dropna()  # log returns\n",
        "rets =  np.log(raw/raw.shift(1)).dropna()\n",
        "rets2 = np.log(raw[\"AAPL.O\"]/raw[\"AAPL.O\"].shift(1)).dropna()\n",
        "raw['AAPL.O'].plot()\n",
        "#raw [\"AAPL.O\"].plot()"
      ],
      "metadata": {
        "colab": {
          "base_uri": "https://localhost:8080/",
          "height": 286
        },
        "id": "6Qkf93V0gyi6",
        "outputId": "d0a38fb5-e6e5-48a5-cf43-08a8a4d392f3"
      },
      "execution_count": null,
      "outputs": [
        {
          "output_type": "execute_result",
          "data": {
            "text/plain": [
              "<matplotlib.axes._subplots.AxesSubplot at 0x7f161680d460>"
            ]
          },
          "metadata": {},
          "execution_count": 63
        },
        {
          "output_type": "display_data",
          "data": {
            "text/plain": [
              "<Figure size 432x288 with 1 Axes>"
            ],
            "image/png": "[encoded data removed]"
          },
          "metadata": {
            "needs_background": "light"
          }
        }
      ]
    },
    {
      "cell_type": "code",
      "source": [
        "raw\n",
        "#rets\n",
        "#rets2.head()"
      ],
      "metadata": {
        "colab": {
          "base_uri": "https://localhost:8080/",
          "height": 455
        },
        "id": "xSYxZZpJgxH9",
        "outputId": "7578c7cc-d313-4630-b9ad-f81988ae442e"
      },
      "execution_count": null,
      "outputs": [
        {
          "output_type": "execute_result",
          "data": {
            "text/plain": [
              "                AAPL.O   MSFT.O   INTC.O    AMZN.O    GS.N     .SPX   .VIX  \\\n",
              "Date                                                                         \n",
              "2014-07-17   23.272475   44.530  33.7000   17.6227  170.14  1958.12  14.54   \n",
              "2014-07-18   23.607500   44.690  33.7000   17.9330  171.47  1978.22  12.06   \n",
              "2014-07-21   23.484750   44.835  34.0600   17.9880  171.72  1973.63  12.81   \n",
              "2014-07-22   23.680000   44.830  34.7901   18.0420  175.02  1983.53  12.24   \n",
              "2014-07-23   24.297500   44.870  34.5000   17.9070  176.82  1987.01  11.52   \n",
              "...                ...      ...      ...       ...     ...      ...    ...   \n",
              "2022-10-26  149.350000  231.320  27.2100  115.6600  335.69  3830.60  27.28   \n",
              "2022-10-27  144.800000  226.750  26.2700  110.9600  337.18  3807.30  27.39   \n",
              "2022-10-28  155.740000  235.870  29.0700  103.4100  341.82  3901.06  25.75   \n",
              "2022-10-31  153.340000  232.130  28.4300  102.4400  344.51  3871.98  25.88   \n",
              "2022-11-01  150.650000  228.170  28.3000   96.7900  348.58  3856.10  25.81   \n",
              "\n",
              "                 SPY    EUR=       XAU=      GDX       GLD  \n",
              "Date                                                        \n",
              "2014-07-17  195.7100  1.3526  1317.3000  26.9900  127.0899  \n",
              "2014-07-18  197.7099  1.3524  1310.5900  26.9399  126.1300  \n",
              "2014-07-21  197.3400  1.3523  1311.5900  26.9000  126.3400  \n",
              "2014-07-22  198.2000  1.3464  1307.0000  26.5900  125.7400  \n",
              "2014-07-23  198.6400  1.3464  1303.8400  26.4900  125.6200  \n",
              "...              ...     ...        ...      ...       ...  \n",
              "2022-10-26  382.0200  1.0077  1664.4884  25.1300  154.9800  \n",
              "2022-10-27  379.9800  0.9962  1662.9399  24.8200  154.7400  \n",
              "2022-10-28  389.0200  0.9963  1641.7600  24.7200  153.1600  \n",
              "2022-10-31  386.2100  0.9883  1633.1224  24.1600  151.9100  \n",
              "2022-11-01  384.5200  0.9874  1647.5033  24.7000  153.4600  \n",
              "\n",
              "[2089 rows x 12 columns]"
            ],
            "text/html": [
              "\n",
              "  <div id=\"df-04d67612-3c1a-4dbb-b08f-002dd06ea7be\">\n",
              "    <div class=\"colab-df-container\">\n",
              "      <div>\n",
              "<style scoped>\n",
              "    .dataframe tbody tr th:only-of-type {\n",
              "        vertical-align: middle;\n",
              "    }\n",
              "\n",
              "    .dataframe tbody tr th {\n",
              "        vertical-align: top;\n",
              "    }\n",
              "\n",
              "    .dataframe thead th {\n",
              "        text-align: right;\n",
              "    }\n",
              "</style>\n",
              "<table border=\"1\" class=\"dataframe\">\n",
              "  <thead>\n",
              "    <tr style=\"text-align: right;\">\n",
              "      <th></th>\n",
              "      <th>AAPL.O</th>\n",
              "      <th>MSFT.O</th>\n",
              "      <th>INTC.O</th>\n",
              "      <th>AMZN.O</th>\n",
              "      <th>GS.N</th>\n",
              "      <th>.SPX</th>\n",
              "      <th>.VIX</th>\n",
              "      <th>SPY</th>\n",
              "      <th>EUR=</th>\n",
              "      <th>XAU=</th>\n",
              "      <th>GDX</th>\n",
              "      <th>GLD</th>\n",
              "    </tr>\n",
              "    <tr>\n",
              "      <th>Date</th>\n",
              "      <th></th>\n",
              "      <th></th>\n",
              "      <th></th>\n",
              "      <th></th>\n",
              "      <th></th>\n",
              "      <th></th>\n",
              "      <th></th>\n",
              "      <th></th>\n",
              "      <th></th>\n",
              "      <th></th>\n",
              "      <th></th>\n",
              "      <th></th>\n",
              "    </tr>\n",
              "  </thead>\n",
              "  <tbody>\n",
              "    <tr>\n",
              "      <th>2014-07-17</th>\n",
              "      <td>23.272475</td>\n",
              "      <td>44.530</td>\n",
              "      <td>33.7000</td>\n",
              "      <td>17.6227</td>\n",
              "      <td>170.14</td>\n",
              "      <td>1958.12</td>\n",
              "      <td>14.54</td>\n",
              "      <td>195.7100</td>\n",
              "      <td>1.3526</td>\n",
              "      <td>1317.3000</td>\n",
              "      <td>26.9900</td>\n",
              "      <td>127.0899</td>\n",
              "    </tr>\n",
              "    <tr>\n",
              "      <th>2014-07-18</th>\n",
              "      <td>23.607500</td>\n",
              "      <td>44.690</td>\n",
              "      <td>33.7000</td>\n",
              "      <td>17.9330</td>\n",
              "      <td>171.47</td>\n",
              "      <td>1978.22</td>\n",
              "      <td>12.06</td>\n",
              "      <td>197.7099</td>\n",
              "      <td>1.3524</td>\n",
              "      <td>1310.5900</td>\n",
              "      <td>26.9399</td>\n",
              "      <td>126.1300</td>\n",
              "    </tr>\n",
              "    <tr>\n",
              "      <th>2014-07-21</th>\n",
              "      <td>23.484750</td>\n",
              "      <td>44.835</td>\n",
              "      <td>34.0600</td>\n",
              "      <td>17.9880</td>\n",
              "      <td>171.72</td>\n",
              "      <td>1973.63</td>\n",
              "      <td>12.81</td>\n",
              "      <td>197.3400</td>\n",
              "      <td>1.3523</td>\n",
              "      <td>1311.5900</td>\n",
              "      <td>26.9000</td>\n",
              "      <td>126.3400</td>\n",
              "    </tr>\n",
              "    <tr>\n",
              "      <th>2014-07-22</th>\n",
              "      <td>23.680000</td>\n",
              "      <td>44.830</td>\n",
              "      <td>34.7901</td>\n",
              "      <td>18.0420</td>\n",
              "      <td>175.02</td>\n",
              "      <td>1983.53</td>\n",
              "      <td>12.24</td>\n",
              "      <td>198.2000</td>\n",
              "      <td>1.3464</td>\n",
              "      <td>1307.0000</td>\n",
              "      <td>26.5900</td>\n",
              "      <td>125.7400</td>\n",
              "    </tr>\n",
              "    <tr>\n",
              "      <th>2014-07-23</th>\n",
              "      <td>24.297500</td>\n",
              "      <td>44.870</td>\n",
              "      <td>34.5000</td>\n",
              "      <td>17.9070</td>\n",
              "      <td>176.82</td>\n",
              "      <td>1987.01</td>\n",
              "      <td>11.52</td>\n",
              "      <td>198.6400</td>\n",
              "      <td>1.3464</td>\n",
              "      <td>1303.8400</td>\n",
              "      <td>26.4900</td>\n",
              "      <td>125.6200</td>\n",
              "    </tr>\n",
              "    <tr>\n",
              "      <th>...</th>\n",
              "      <td>...</td>\n",
              "      <td>...</td>\n",
              "      <td>...</td>\n",
              "      <td>...</td>\n",
              "      <td>...</td>\n",
              "      <td>...</td>\n",
              "      <td>...</td>\n",
              "      <td>...</td>\n",
              "      <td>...</td>\n",
              "      <td>...</td>\n",
              "      <td>...</td>\n",
              "      <td>...</td>\n",
              "    </tr>\n",
              "    <tr>\n",
              "      <th>2022-10-26</th>\n",
              "      <td>149.350000</td>\n",
              "      <td>231.320</td>\n",
              "      <td>27.2100</td>\n",
              "      <td>115.6600</td>\n",
              "      <td>335.69</td>\n",
              "      <td>3830.60</td>\n",
              "      <td>27.28</td>\n",
              "      <td>382.0200</td>\n",
              "      <td>1.0077</td>\n",
              "      <td>1664.4884</td>\n",
              "      <td>25.1300</td>\n",
              "      <td>154.9800</td>\n",
              "    </tr>\n",
              "    <tr>\n",
              "      <th>2022-10-27</th>\n",
              "      <td>144.800000</td>\n",
              "      <td>226.750</td>\n",
              "      <td>26.2700</td>\n",
              "      <td>110.9600</td>\n",
              "      <td>337.18</td>\n",
              "      <td>3807.30</td>\n",
              "      <td>27.39</td>\n",
              "      <td>379.9800</td>\n",
              "      <td>0.9962</td>\n",
              "      <td>1662.9399</td>\n",
              "      <td>24.8200</td>\n",
              "      <td>154.7400</td>\n",
              "    </tr>\n",
              "    <tr>\n",
              "      <th>2022-10-28</th>\n",
              "      <td>155.740000</td>\n",
              "      <td>235.870</td>\n",
              "      <td>29.0700</td>\n",
              "      <td>103.4100</td>\n",
              "      <td>341.82</td>\n",
              "      <td>3901.06</td>\n",
              "      <td>25.75</td>\n",
              "      <td>389.0200</td>\n",
              "      <td>0.9963</td>\n",
              "      <td>1641.7600</td>\n",
              "      <td>24.7200</td>\n",
              "      <td>153.1600</td>\n",
              "    </tr>\n",
              "    <tr>\n",
              "      <th>2022-10-31</th>\n",
              "      <td>153.340000</td>\n",
              "      <td>232.130</td>\n",
              "      <td>28.4300</td>\n",
              "      <td>102.4400</td>\n",
              "      <td>344.51</td>\n",
              "      <td>3871.98</td>\n",
              "      <td>25.88</td>\n",
              "      <td>386.2100</td>\n",
              "      <td>0.9883</td>\n",
              "      <td>1633.1224</td>\n",
              "      <td>24.1600</td>\n",
              "      <td>151.9100</td>\n",
              "    </tr>\n",
              "    <tr>\n",
              "      <th>2022-11-01</th>\n",
              "      <td>150.650000</td>\n",
              "      <td>228.170</td>\n",
              "      <td>28.3000</td>\n",
              "      <td>96.7900</td>\n",
              "      <td>348.58</td>\n",
              "      <td>3856.10</td>\n",
              "      <td>25.81</td>\n",
              "      <td>384.5200</td>\n",
              "      <td>0.9874</td>\n",
              "      <td>1647.5033</td>\n",
              "      <td>24.7000</td>\n",
              "      <td>153.4600</td>\n",
              "    </tr>\n",
              "  </tbody>\n",
              "</table>\n",
              "<p>2089 rows × 12 columns</p>\n",
              "</div>\n",
              "      <button class=\"colab-df-convert\" onclick=\"convertToInteractive('df-04d67612-3c1a-4dbb-b08f-002dd06ea7be')\"\n",
              "              title=\"Convert this dataframe to an interactive table.\"\n",
              "              style=\"display:none;\">\n",
              "        \n",
              "  <svg xmlns=\"http://www.w3.org/2000/svg\" height=\"24px\"viewBox=\"0 0 24 24\"\n",
              "       width=\"24px\">\n",
              "    <path d=\"M0 0h24v24H0V0z\" fill=\"none\"/>\n",
              "    <path d=\"M18.56 5.44l.94 2.06.94-2.06 2.06-.94-2.06-.94-.94-2.06-.94 2.06-2.06.94zm-11 1L8.5 8.5l.94-2.06 2.06-.94-2.06-.94L8.5 2.5l-.94 2.06-2.06.94zm10 10l.94 2.06.94-2.06 2.06-.94-2.06-.94-.94-2.06-.94 2.06-2.06.94z\"/><path d=\"M17.41 7.96l-1.37-1.37c-.4-.4-.92-.59-1.43-.59-.52 0-1.04.2-1.43.59L10.3 9.45l-7.72 7.72c-.78.78-.78 2.05 0 2.83L4 21.41c.39.39.9.59 1.41.59.51 0 1.02-.2 1.41-.59l7.78-7.78 2.81-2.81c.8-.78.8-2.07 0-2.86zM5.41 20L4 18.59l7.72-7.72 1.47 1.35L5.41 20z\"/>\n",
              "  </svg>\n",
              "      </button>\n",
              "      \n",
              "  <style>\n",
              "    .colab-df-container {\n",
              "      display:flex;\n",
              "      flex-wrap:wrap;\n",
              "      gap: 12px;\n",
              "    }\n",
              "\n",
              "    .colab-df-convert {\n",
              "      background-color: #E8F0FE;\n",
              "      border: none;\n",
              "      border-radius: 50%;\n",
              "      cursor: pointer;\n",
              "      display: none;\n",
              "      fill: #1967D2;\n",
              "      height: 32px;\n",
              "      padding: 0 0 0 0;\n",
              "      width: 32px;\n",
              "    }\n",
              "\n",
              "    .colab-df-convert:hover {\n",
              "      background-color: #E2EBFA;\n",
              "      box-shadow: 0px 1px 2px rgba(60, 64, 67, 0.3), 0px 1px 3px 1px rgba(60, 64, 67, 0.15);\n",
              "      fill: #174EA6;\n",
              "    }\n",
              "\n",
              "    [theme=dark] .colab-df-convert {\n",
              "      background-color: #3B4455;\n",
              "      fill: #D2E3FC;\n",
              "    }\n",
              "\n",
              "    [theme=dark] .colab-df-convert:hover {\n",
              "      background-color: #434B5C;\n",
              "      box-shadow: 0px 1px 3px 1px rgba(0, 0, 0, 0.15);\n",
              "      filter: drop-shadow(0px 1px 2px rgba(0, 0, 0, 0.3));\n",
              "      fill: #FFFFFF;\n",
              "    }\n",
              "  </style>\n",
              "\n",
              "      <script>\n",
              "        const buttonEl =\n",
              "          document.querySelector('#df-04d67612-3c1a-4dbb-b08f-002dd06ea7be button.colab-df-convert');\n",
              "        buttonEl.style.display =\n",
              "          google.colab.kernel.accessAllowed ? 'block' : 'none';\n",
              "\n",
              "        async function convertToInteractive(key) {\n",
              "          const element = document.querySelector('#df-04d67612-3c1a-4dbb-b08f-002dd06ea7be');\n",
              "          const dataTable =\n",
              "            await google.colab.kernel.invokeFunction('convertToInteractive',\n",
              "                                                     [key], {});\n",
              "          if (!dataTable) return;\n",
              "\n",
              "          const docLinkHtml = 'Like what you see? Visit the ' +\n",
              "            '<a target=\"_blank\" href=https://colab.research.google.com/notebooks/data_table.ipynb>data table notebook</a>'\n",
              "            + ' to learn more about interactive tables.';\n",
              "          element.innerHTML = '';\n",
              "          dataTable['output_type'] = 'display_data';\n",
              "          await google.colab.output.renderOutput(dataTable, element);\n",
              "          const docLink = document.createElement('div');\n",
              "          docLink.innerHTML = docLinkHtml;\n",
              "          element.appendChild(docLink);\n",
              "        }\n",
              "      </script>\n",
              "    </div>\n",
              "  </div>\n",
              "  "
            ]
          },
          "metadata": {},
          "execution_count": 66
        }
      ]
    },
    {
      "cell_type": "code",
      "source": [
        "import time\n",
        "import random"
      ],
      "metadata": {
        "id": "ADIdX_SAeY1w"
      },
      "execution_count": null,
      "outputs": []
    },
    {
      "cell_type": "code",
      "source": [
        "sym = 'AAPL.O'"
      ],
      "metadata": {
        "id": "JUCEAFiggfhY"
      },
      "execution_count": null,
      "outputs": []
    },
    {
      "cell_type": "code",
      "source": [
        "for bar in range(10):\n",
        "     print(bar, str(raw.index[bar])[:10], raw[sym].iloc[bar])\n",
        "     time.sleep(random.random())\n",
        "    #print(bar, str(raw.index[bar])[:10], raw[sym].iloc[bar])\n",
        "    #time.sleep(random.random())"
      ],
      "metadata": {
        "colab": {
          "base_uri": "https://localhost:8080/"
        },
        "id": "toOjqe7hgib5",
        "outputId": "7fbce52c-91b7-4afa-98e4-68edcde48ac5"
      },
      "execution_count": null,
      "outputs": [
        {
          "output_type": "stream",
          "name": "stdout",
          "text": [
            "0 2014-07-17 23.272475\n",
            "1 2014-07-18 23.6075\n",
            "2 2014-07-21 23.48475\n",
            "3 2014-07-22 23.68\n",
            "4 2014-07-23 24.2975\n",
            "5 2014-07-24 24.2575\n",
            "6 2014-07-25 24.41775\n",
            "7 2014-07-28 24.755\n",
            "8 2014-07-29 24.595\n",
            "9 2014-07-30 24.5375\n"
          ]
        }
      ]
    },
    {
      "cell_type": "code",
      "source": [
        "class FinancialData:\n",
        "    url = 'https://certificate.tpq.io/mlfin.csv'\n",
        "    def __init__(self, symbol):\n",
        "        self.symbol = symbol\n",
        "        self.retrieve_data()\n",
        "        self.prepare_data()\n",
        "    def retrieve_data(self):\n",
        "        self.raw = pd.read_csv(self.url, index_col=0, parse_dates=True)\n",
        "    def prepare_data(self):\n",
        "        self.data = pd.DataFrame(self.raw[self.symbol]).dropna()\n",
        "        self.data['r'] = np.log(self.data / self.data.shift(1))\n",
        "    def plot_data(self, cols=None):\n",
        "        if cols is None:\n",
        "            cols = [self.symbol]\n",
        "        self.data[cols].plot(title=self.symbol)"
      ],
      "metadata": {
        "id": "6Dr5ox5OmQKL"
      },
      "execution_count": null,
      "outputs": []
    },
    {
      "cell_type": "code",
      "source": [
        "FinancialData(\"AAPL.O\")"
      ],
      "metadata": {
        "colab": {
          "base_uri": "https://localhost:8080/"
        },
        "id": "f_WIwdj40ibD",
        "outputId": "77dde2c5-f39e-4502-87be-d92b76e327f9"
      },
      "execution_count": null,
      "outputs": [
        {
          "output_type": "execute_result",
          "data": {
            "text/plain": [
              "<__main__.FinancialData at 0x7f16166a5fd0>"
            ]
          },
          "metadata": {},
          "execution_count": 86
        }
      ]
    },
    {
      "cell_type": "code",
      "source": [],
      "metadata": {
        "id": "_dt_z6DV1Huy"
      },
      "execution_count": null,
      "outputs": []
    },
    {
      "cell_type": "markdown",
      "source": [
        "BacktestingBase Class\n",
        "We are going to implement a base class for event-based backtesting with:\n",
        "\n",
        "__init__\n",
        "retrieve_data (FinancialData)\n",
        "prepare_data (FinancialData)\n",
        "plot_data (FinancialData)\n",
        "get_date_price\n",
        "print_balance\n",
        "print_net_wealth\n",
        "place_buy_order\n",
        "place_sell_order\n",
        "close_out"
      ],
      "metadata": {
        "id": "tNTK6zW41dbj"
      }
    },
    {
      "cell_type": "code",
      "source": [
        "class BacktestingBase(FinancialData):\n",
        "    def __init__(self, symbol, amount):\n",
        "        super().__init__(symbol)\n",
        "        self.initial_balance = amount\n",
        "        self.current_balance = amount\n",
        "        self.units = 0\n",
        "        self.trades = 0\n",
        "    def get_date_price(self, bar):\n",
        "        date = str(self.data.index[bar])[:10]\n",
        "        price = self.data[self.symbol].iloc[bar]\n",
        "        return date, price\n",
        "    def print_balance(self, bar):\n",
        "        date, price = self.get_date_price(bar)\n",
        "        print(f'{date} | current balance = {self.current_balance:.2f}')\n",
        "    def print_net_wealth(self, bar):\n",
        "        date, price = self.get_date_price(bar)\n",
        "        net_wealth = self.current_balance + self.units * price\n",
        "        print(f'{date} | net wealth = {net_wealth:.2f}')\n",
        "    def place_buy_order(self, bar, units=None, amount=None):\n",
        "        date, price = self.get_date_price(bar)\n",
        "        if units is None:\n",
        "            units = int(amount / price)\n",
        "        self.current_balance -= units * price\n",
        "        self.units += units\n",
        "        self.trades += 1\n",
        "        self.entry_price = price\n",
        "        #print(f'{date} | bought {units} for {price}')\n",
        "        print(f'{date} | bought {units} for {price}')\n",
        "        self.print_balance(bar)\n",
        "        self.print_net_wealth(bar)\n",
        "    def place_sell_order(self, bar, units=None, amount=None):\n",
        "        date, price = self.get_date_price(bar)\n",
        "        if units is None:\n",
        "            units = int(amount / price)\n",
        "        self.current_balance += units * price\n",
        "        self.units -= units\n",
        "        self.trades += 1\n",
        "        self.entry_price = price\n",
        "        print(f'{date} | sold {units} for {price}')\n",
        "        self.print_balance(bar)\n",
        "        self.print_net_wealth(bar)\n",
        "    def close_out(self, bar):\n",
        "        date, price = self.get_date_price(bar)\n",
        "        print(55 * '=')\n",
        "        print('*** CLOSING OUT POSITION ***')\n",
        "        print(55 * '=')\n",
        "        print(f'{date} | closing out {self.units} at {price}')\n",
        "        self.current_balance += self.units * price\n",
        "        self.units = 0\n",
        "        self.trades += 1\n",
        "        perf = (self.current_balance / self.initial_balance - 1) * 100\n",
        "        self.print_balance(bar)\n",
        "        self.print_net_wealth(bar)\n",
        "        print(f'{date} | performance[%] = {perf:.3f}')\n",
        "        print(f'{date} | trades[#] = {self.trades}')\n",
        "        print(55 * '=')"
      ],
      "metadata": {
        "id": "_jL2gmbC1eUZ"
      },
      "execution_count": null,
      "outputs": []
    },
    {
      "cell_type": "code",
      "source": [
        "mj = BacktestingBase(\"AAPL.O\", amount = 10000)\n",
        "mj"
      ],
      "metadata": {
        "colab": {
          "base_uri": "https://localhost:8080/"
        },
        "id": "kXEnj7AsA9zi",
        "outputId": "85c5fcba-b4a8-4a65-c0e2-35910d59e984"
      },
      "execution_count": null,
      "outputs": [
        {
          "output_type": "execute_result",
          "data": {
            "text/plain": [
              "<__main__.BacktestingBase at 0x7f1616707cd0>"
            ]
          },
          "metadata": {},
          "execution_count": 94
        }
      ]
    },
    {
      "cell_type": "code",
      "source": [
        "mj.place_sell_order(10,600)"
      ],
      "metadata": {
        "colab": {
          "base_uri": "https://localhost:8080/"
        },
        "id": "87BBQEx6BKn6",
        "outputId": "1505d9c6-d3a7-4198-d2db-44f417435694"
      },
      "execution_count": null,
      "outputs": [
        {
          "output_type": "stream",
          "name": "stdout",
          "text": [
            "2012-11-15 | sold 600 for 18.772124085\n",
            "2012-11-15 | current balance = 208984.52\n",
            "2012-11-15 | net wealth = 10000.00\n"
          ]
        }
      ]
    },
    {
      "cell_type": "code",
      "source": [
        "class SMABacktester(BacktestingBase):\n",
        "    def prepare_statistics(self):\n",
        "        self.data['SMA1'] = self.data[self.symbol].rolling(self.SMA1).mean()\n",
        "        self.data['SMA2'] = self.data[self.symbol].rolling(self.SMA2).mean()\n",
        "    def backtest_strategy(self, SMA1, SMA2, sl=None, wait=5):\n",
        "        self.units = 0\n",
        "        self.trades = 0\n",
        "        self.position = 0\n",
        "        self.wait = 0\n",
        "        self.current_balance = self.initial_balance\n",
        "        self.net_wealths = list()\n",
        "        self.SMA1 = SMA1\n",
        "        self.SMA2 = SMA2\n",
        "        self.prepare_statistics()\n",
        "        print(55 * '=')\n",
        "        print('*** STARTING BACKTEST ***')\n",
        "        print(f'SYMBOL = {self.symbol} | SMA1 = {self.SMA1} | SMA2 = {self.SMA2}')\n",
        "        print(55 * '=')\n",
        "        for bar in range(self.SMA2, len(self.data)):\n",
        "            if self.wait != 0:\n",
        "                self.wait -= 1\n",
        "            date, price = self.get_date_price(bar)\n",
        "            self.net_wealths.append(self.current_balance + self.units * price)\n",
        "            signal = 1 if self.data['SMA1'].iloc[bar] > self.data['SMA2'].iloc[bar] else -1\n",
        "            if sl is not None and self.position != 0 and self.wait == 0:\n",
        "                # checking for stop loss\n",
        "                rc = (price - self.entry_price) / self.entry_price\n",
        "                if self.position == 1 and rc < -sl:\n",
        "                    print(f'{date} | STOP LOSS HIT | LONG {rc:.3f}')\n",
        "                    self.place_sell_order(bar, units=self.units)\n",
        "                    self.position = 0\n",
        "                    self.wait = wait\n",
        "                    print(55 * '-')\n",
        "                    elif self.position == -1 and rc > sl:\n",
        "                    print(f'{date} | STOP LOSS HIT | SHORT {rc:.3f}')\n",
        "                    self.place_buy_order(bar, units=-self.units)\n",
        "                    self.position = 0\n",
        "                    self.wait = wait\n",
        "                    print(55 * '-')\n",
        "            if self.position in [0, -1] and signal == 1 and self.wait == 0:\n",
        "                # going long\n",
        "                self.place_buy_order(bar, units=(1 - self.position) * 5000)  # adjust to the instrument\n",
        "                self.position = 1\n",
        "                print(55 * '-')\n",
        "            elif self.position in [0, 1] and signal == -1 and self.wait == 0:\n",
        "                # goint short\n",
        "                self.place_sell_order(bar, units=(1 + self.position) * 5000)  # adjust to the instrument\n",
        "                self.position = -1\n",
        "                print(55 * '-')\n",
        "        self.close_out(bar)"
      ],
      "metadata": {
        "id": "76FY04PMBRLu"
      },
      "execution_count": null,
      "outputs": []
    }
  ]
}